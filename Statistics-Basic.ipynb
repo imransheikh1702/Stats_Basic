{
 "cells": [
  {
   "cell_type": "markdown",
   "metadata": {},
   "source": [
    "# Core Python"
   ]
  },
  {
   "cell_type": "code",
   "execution_count": 3,
   "metadata": {
    "collapsed": true
   },
   "outputs": [],
   "source": [
    "a = [2,4,3,7,1,9,8,6,1,5]"
   ]
  },
  {
   "cell_type": "code",
   "execution_count": 4,
   "metadata": {},
   "outputs": [
    {
     "name": "stdout",
     "output_type": "stream",
     "text": [
      "Mean: 4.6\n",
      "Meadian: 4.5\n",
      "Mode : [1]\n",
      "Variance: 8.266666666666666\n",
      "Standard Deviation: 2.875181153713043\n"
     ]
    }
   ],
   "source": [
    "# MEAN\n",
    "a_mean = sum(a)/len(a)\n",
    "\n",
    "# MEDIAN\n",
    "length = len(a)\n",
    "a_list =sorted(a)\n",
    "middle = length/2\n",
    "if length %2 == 1:\n",
    "    a_median = a_list[int(middle)]\n",
    "else:\n",
    "    a_median = sum(a_list[int(middle) - 1:int(middle) + 1]) / 2.0\n",
    "\n",
    "\n",
    "# MODE\n",
    "ans={}\n",
    "a_mode=[]\n",
    "\n",
    "for i in a:\n",
    "    max_tally =  a.count(i)\n",
    "    ans[i] = max_tally\n",
    "max_1 = max(ans.values())\n",
    "for key,value in ans.items():\n",
    "    if value == max_1:\n",
    "        a_mode.append(key)\n",
    "\n",
    "# Variance\n",
    "length = len(a) - 1\n",
    "sum_sqr = sum([(i-a_mean) ** 2 for i in a])\n",
    "var = sum_sqr/length\n",
    "\n",
    "# Standard Deviation\n",
    "std = var ** 0.5\n",
    "    \n",
    "print(\"Mean: \" + str(a_mean) + \"\\nMeadian: \" + str(a_median) + \"\\nMode : \" + str(a_mode) + \\\n",
    "      \"\\nVariance: \" + str(var) + \"\\nStandard Deviation: \" + str(std) )\n"
   ]
  },
  {
   "cell_type": "markdown",
   "metadata": {},
   "source": [
    "#  Statistics Library"
   ]
  },
  {
   "cell_type": "code",
   "execution_count": 5,
   "metadata": {
    "collapsed": true
   },
   "outputs": [],
   "source": [
    "import statistics as st"
   ]
  },
  {
   "cell_type": "code",
   "execution_count": 6,
   "metadata": {},
   "outputs": [
    {
     "name": "stdout",
     "output_type": "stream",
     "text": [
      "Mean is : 4.6\n",
      "Median is : 4.5\n",
      "Mode is : 1\n",
      "Variance is : 8.266666666666666\n",
      "Standard Deviation : 2.875181153713043\n"
     ]
    }
   ],
   "source": [
    "mean = st.mean(a)\n",
    "print(\"Mean is : \" + str(mean))\n",
    "\n",
    "median = st.median(a)\n",
    "print(\"Median is : \" + str(median))\n",
    "\n",
    "mode = st.mode(a)\n",
    "print(\"Mode is : \" + str(mode))\n",
    "\n",
    "variance = st.variance(a)\n",
    "print(\"Variance is : \" + str(variance))\n",
    "\n",
    "std = st.stdev(a)\n",
    "print(\"Standard Deviation : \" + str(std))"
   ]
  },
  {
   "cell_type": "markdown",
   "metadata": {},
   "source": [
    "# Numpy"
   ]
  },
  {
   "cell_type": "code",
   "execution_count": 7,
   "metadata": {
    "collapsed": true
   },
   "outputs": [],
   "source": [
    "import numpy as np\n",
    "from scipy import stats"
   ]
  },
  {
   "cell_type": "code",
   "execution_count": 14,
   "metadata": {},
   "outputs": [
    {
     "name": "stdout",
     "output_type": "stream",
     "text": [
      "Mean: 4.6\n",
      "Meadian: 4.5\n",
      "Variance: 7.44\n",
      "Standard Deviation: 2.7276363394\n"
     ]
    }
   ],
   "source": [
    "n_mean = np.mean(a)\n",
    "n_median = np.median(a)\n",
    "#n_mode = np.mode(a)\n",
    "n_var = np.var(a)\n",
    "n_std = np.std(a)\n",
    "\n",
    "print(\"Mean: \" + str(n_mean) + \"\\nMeadian: \" + str(n_median) + #\"\\nMode : \" + str(n_mode) + # \\\n",
    "      \"\\nVariance: \" + str(n_var) + \"\\nStandard Deviation: \" + str(n_std) )"
   ]
  },
  {
   "cell_type": "code",
   "execution_count": null,
   "metadata": {
    "collapsed": true
   },
   "outputs": [],
   "source": []
  }
 ],
 "metadata": {
  "kernelspec": {
   "display_name": "Python 3",
   "language": "python",
   "name": "python3"
  },
  "language_info": {
   "codemirror_mode": {
    "name": "ipython",
    "version": 3
   },
   "file_extension": ".py",
   "mimetype": "text/x-python",
   "name": "python",
   "nbconvert_exporter": "python",
   "pygments_lexer": "ipython3",
   "version": "3.6.3"
  }
 },
 "nbformat": 4,
 "nbformat_minor": 2
}
